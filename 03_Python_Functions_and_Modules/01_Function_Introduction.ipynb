{
 "cells": [
  {
   "cell_type": "markdown",
   "id": "64c39144",
   "metadata": {},
   "source": [
    "# Functions"
   ]
  },
  {
   "cell_type": "markdown",
   "id": "00d087da",
   "metadata": {},
   "source": [
    "- helps to achieve reusability of code, avoid repetition of code\n",
    "- more organised and modular code"
   ]
  },
  {
   "cell_type": "markdown",
   "id": "067a5144",
   "metadata": {},
   "source": [
    "- Built-in functions\n",
    "- User-Defined functions"
   ]
  },
  {
   "cell_type": "markdown",
   "id": "22eb99c5",
   "metadata": {},
   "source": [
    "# Syntax\n",
    "- def fun_name (params):\n",
    "      statements...."
   ]
  },
  {
   "cell_type": "code",
   "execution_count": 1,
   "id": "9ea2ecff",
   "metadata": {},
   "outputs": [],
   "source": [
    "# function definition\n",
    "def greetings(name):\n",
    "    print(\"Good Morning\", name)"
   ]
  },
  {
   "cell_type": "code",
   "execution_count": 2,
   "id": "4a22fea9",
   "metadata": {},
   "outputs": [
    {
     "name": "stdout",
     "output_type": "stream",
     "text": [
      "<function greetings at 0x0000017B7B1BDCA0>\n"
     ]
    }
   ],
   "source": [
    "print(greetings)"
   ]
  },
  {
   "cell_type": "code",
   "execution_count": 3,
   "id": "aa0a387a",
   "metadata": {},
   "outputs": [
    {
     "data": {
      "text/plain": [
       "function"
      ]
     },
     "execution_count": 3,
     "metadata": {},
     "output_type": "execute_result"
    }
   ],
   "source": [
    "type(greetings)"
   ]
  },
  {
   "cell_type": "code",
   "execution_count": 5,
   "id": "313d7bab",
   "metadata": {},
   "outputs": [
    {
     "name": "stdout",
     "output_type": "stream",
     "text": [
      "<class 'function'>\n"
     ]
    }
   ],
   "source": [
    "print(type(greetings))"
   ]
  },
  {
   "cell_type": "code",
   "execution_count": 6,
   "id": "9e168046",
   "metadata": {},
   "outputs": [
    {
     "name": "stdout",
     "output_type": "stream",
     "text": [
      "Good Morning Yash\n"
     ]
    }
   ],
   "source": [
    "# function calling\n",
    "greetings(\"Yash\")"
   ]
  },
  {
   "cell_type": "code",
   "execution_count": 7,
   "id": "22456f06",
   "metadata": {},
   "outputs": [
    {
     "name": "stdout",
     "output_type": "stream",
     "text": [
      "Good Morning MSD\n"
     ]
    }
   ],
   "source": [
    "greetings(\"MSD\")"
   ]
  },
  {
   "cell_type": "code",
   "execution_count": 8,
   "id": "f13572d2",
   "metadata": {},
   "outputs": [],
   "source": [
    "def add(a,b):\n",
    "    \n",
    "    \"\"\"\n",
    "    this is a doc string.\n",
    "    \n",
    "    return sum of 2 numbers\n",
    "    \n",
    "    \"\"\"\n",
    "    return (a+b)"
   ]
  },
  {
   "cell_type": "code",
   "execution_count": 9,
   "id": "755413b9",
   "metadata": {},
   "outputs": [
    {
     "data": {
      "text/plain": [
       "8"
      ]
     },
     "execution_count": 9,
     "metadata": {},
     "output_type": "execute_result"
    }
   ],
   "source": [
    "# it is not printing, it's a return value\n",
    "\n",
    "add(5,3)"
   ]
  },
  {
   "cell_type": "code",
   "execution_count": 10,
   "id": "48471e4e",
   "metadata": {},
   "outputs": [
    {
     "name": "stdout",
     "output_type": "stream",
     "text": [
      "12\n"
     ]
    }
   ],
   "source": [
    "# you can recieve return value into a variable\n",
    "\n",
    "c = add(7,5)\n",
    "\n",
    "print(c)"
   ]
  },
  {
   "cell_type": "code",
   "execution_count": 12,
   "id": "4d4b0178",
   "metadata": {},
   "outputs": [],
   "source": [
    "def product(lst):\n",
    "    s = 1\n",
    "    for i in lst:\n",
    "        s *= i\n",
    "    return s    "
   ]
  },
  {
   "cell_type": "code",
   "execution_count": 15,
   "id": "7125b09e",
   "metadata": {},
   "outputs": [
    {
     "name": "stdout",
     "output_type": "stream",
     "text": [
      "120\n"
     ]
    }
   ],
   "source": [
    "sumofP = product([1,2,3,4,5])\n",
    "print(sumofP)"
   ]
  },
  {
   "cell_type": "code",
   "execution_count": 16,
   "id": "12c3eee6",
   "metadata": {},
   "outputs": [],
   "source": [
    "def calculator(a,b):\n",
    "    return(a+b, a-b, a*b, a/b)"
   ]
  },
  {
   "cell_type": "code",
   "execution_count": 18,
   "id": "ddeeca77",
   "metadata": {},
   "outputs": [
    {
     "data": {
      "text/plain": [
       "(6, 2, 8, 2.0)"
      ]
     },
     "execution_count": 18,
     "metadata": {},
     "output_type": "execute_result"
    }
   ],
   "source": [
    "calculator(4,2)"
   ]
  },
  {
   "cell_type": "code",
   "execution_count": null,
   "id": "ee447a98",
   "metadata": {},
   "outputs": [],
   "source": []
  }
 ],
 "metadata": {
  "kernelspec": {
   "display_name": "Python 3 (ipykernel)",
   "language": "python",
   "name": "python3"
  },
  "language_info": {
   "codemirror_mode": {
    "name": "ipython",
    "version": 3
   },
   "file_extension": ".py",
   "mimetype": "text/x-python",
   "name": "python",
   "nbconvert_exporter": "python",
   "pygments_lexer": "ipython3",
   "version": "3.9.7"
  }
 },
 "nbformat": 4,
 "nbformat_minor": 5
}
