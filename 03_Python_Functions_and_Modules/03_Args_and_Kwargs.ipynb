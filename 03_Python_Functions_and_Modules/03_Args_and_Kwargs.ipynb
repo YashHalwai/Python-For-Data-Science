{
 "cells": [
  {
   "cell_type": "markdown",
   "id": "fbeef4ec",
   "metadata": {},
   "source": [
    "arbitary arguments: it can receive, any number of arguments"
   ]
  },
  {
   "cell_type": "code",
   "execution_count": 6,
   "id": "4842d882",
   "metadata": {},
   "outputs": [],
   "source": [
    "def random_fun(*args):\n",
    "    print(args)\n",
    "    print(type(args))\n",
    "    for i in args:\n",
    "        print(i**2)"
   ]
  },
  {
   "cell_type": "code",
   "execution_count": 7,
   "id": "1745225a",
   "metadata": {},
   "outputs": [
    {
     "name": "stdout",
     "output_type": "stream",
     "text": [
      "(15, 5, 3, 9, 6)\n",
      "<class 'tuple'>\n",
      "225\n",
      "25\n",
      "9\n",
      "81\n",
      "36\n"
     ]
    }
   ],
   "source": [
    "random_fun(15,5,3,9,6)"
   ]
  },
  {
   "cell_type": "markdown",
   "id": "c999cff2",
   "metadata": {},
   "source": [
    "keyword arguments: it also takes any number of arguments and stores in form of dictionary. Parameter name is mandatory while calling function"
   ]
  },
  {
   "cell_type": "code",
   "execution_count": 13,
   "id": "b86c66c2",
   "metadata": {},
   "outputs": [],
   "source": [
    "def introduction(**kwargs):\n",
    "    print(kwargs)\n",
    "    print(type(kwargs))\n",
    "    \n",
    "    for k,v in kwargs.items():\n",
    "        print(k, \":\", v)"
   ]
  },
  {
   "cell_type": "code",
   "execution_count": 14,
   "id": "368f3d5f",
   "metadata": {},
   "outputs": [
    {
     "name": "stdout",
     "output_type": "stream",
     "text": [
      "{'name': 'Yash', 'age': 19, 'hobby': ['coding', 'cricket'], 'nationality': 'Indian'}\n",
      "<class 'dict'>\n",
      "name : Yash\n",
      "age : 19\n",
      "hobby : ['coding', 'cricket']\n",
      "nationality : Indian\n"
     ]
    }
   ],
   "source": [
    "introduction(name = \"Yash\", age = 19, hobby=['coding','cricket'],nationality='Indian')"
   ]
  },
  {
   "cell_type": "code",
   "execution_count": 15,
   "id": "7266254f",
   "metadata": {},
   "outputs": [
    {
     "name": "stdout",
     "output_type": "stream",
     "text": [
      "{'name': 'Sundar', 'age': 40, 'company': 'Google'}\n",
      "<class 'dict'>\n",
      "name : Sundar\n",
      "age : 40\n",
      "company : Google\n"
     ]
    }
   ],
   "source": [
    "introduction(name = \"Sundar\", age = 40, company = \"Google\")"
   ]
  },
  {
   "cell_type": "code",
   "execution_count": null,
   "id": "bdd78c6a",
   "metadata": {},
   "outputs": [],
   "source": []
  }
 ],
 "metadata": {
  "kernelspec": {
   "display_name": "Python 3 (ipykernel)",
   "language": "python",
   "name": "python3"
  },
  "language_info": {
   "codemirror_mode": {
    "name": "ipython",
    "version": 3
   },
   "file_extension": ".py",
   "mimetype": "text/x-python",
   "name": "python",
   "nbconvert_exporter": "python",
   "pygments_lexer": "ipython3",
   "version": "3.9.7"
  }
 },
 "nbformat": 4,
 "nbformat_minor": 5
}
