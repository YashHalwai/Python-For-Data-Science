{
 "cells": [
  {
   "cell_type": "markdown",
   "id": "6f60611a",
   "metadata": {},
   "source": [
    "# Built In Function\n",
    "- print()\n",
    "- abs()\n",
    "- round()\n",
    "- Aggregation Functions: sum(), max(), min()\n",
    "- filter()\n",
    "- map()"
   ]
  },
  {
   "cell_type": "code",
   "execution_count": 1,
   "id": "1908f6f3",
   "metadata": {},
   "outputs": [
    {
     "data": {
      "text/plain": [
       "4.5"
      ]
     },
     "execution_count": 1,
     "metadata": {},
     "output_type": "execute_result"
    }
   ],
   "source": [
    "abs(-4.5)"
   ]
  },
  {
   "cell_type": "code",
   "execution_count": 2,
   "id": "fe6a33e4",
   "metadata": {},
   "outputs": [
    {
     "data": {
      "text/plain": [
       "5.68"
      ]
     },
     "execution_count": 2,
     "metadata": {},
     "output_type": "execute_result"
    }
   ],
   "source": [
    "round(5.6786,2)"
   ]
  },
  {
   "cell_type": "code",
   "execution_count": 3,
   "id": "666256a4",
   "metadata": {},
   "outputs": [
    {
     "data": {
      "text/plain": [
       "6.0"
      ]
     },
     "execution_count": 3,
     "metadata": {},
     "output_type": "execute_result"
    }
   ],
   "source": [
    "round(5.96564782,1)"
   ]
  },
  {
   "cell_type": "code",
   "execution_count": 5,
   "id": "61931551",
   "metadata": {},
   "outputs": [],
   "source": [
    "lst = [1,2,3,4,5]"
   ]
  },
  {
   "cell_type": "code",
   "execution_count": 6,
   "id": "1a7d56e2",
   "metadata": {},
   "outputs": [
    {
     "data": {
      "text/plain": [
       "15"
      ]
     },
     "execution_count": 6,
     "metadata": {},
     "output_type": "execute_result"
    }
   ],
   "source": [
    "sum(lst)"
   ]
  },
  {
   "cell_type": "code",
   "execution_count": 7,
   "id": "ba8a0982",
   "metadata": {},
   "outputs": [
    {
     "data": {
      "text/plain": [
       "5"
      ]
     },
     "execution_count": 7,
     "metadata": {},
     "output_type": "execute_result"
    }
   ],
   "source": [
    "max(lst)"
   ]
  },
  {
   "cell_type": "code",
   "execution_count": 8,
   "id": "6a7dc62c",
   "metadata": {},
   "outputs": [
    {
     "data": {
      "text/plain": [
       "1"
      ]
     },
     "execution_count": 8,
     "metadata": {},
     "output_type": "execute_result"
    }
   ],
   "source": [
    " min(lst)"
   ]
  },
  {
   "cell_type": "markdown",
   "id": "dfc42c22",
   "metadata": {},
   "source": [
    "Map"
   ]
  },
  {
   "cell_type": "code",
   "execution_count": 9,
   "id": "5670d2a5",
   "metadata": {},
   "outputs": [],
   "source": [
    "def add_one(x):\n",
    "    return x + 1"
   ]
  },
  {
   "cell_type": "code",
   "execution_count": 10,
   "id": "1f2e57dc",
   "metadata": {},
   "outputs": [
    {
     "data": {
      "text/plain": [
       "16"
      ]
     },
     "execution_count": 10,
     "metadata": {},
     "output_type": "execute_result"
    }
   ],
   "source": [
    "add_one(15)"
   ]
  },
  {
   "cell_type": "code",
   "execution_count": 12,
   "id": "953e6109",
   "metadata": {},
   "outputs": [
    {
     "name": "stdout",
     "output_type": "stream",
     "text": [
      "[2, 3, 4, 5, 6]\n"
     ]
    }
   ],
   "source": [
    "new_lst = []\n",
    "\n",
    "for i in lst:\n",
    "    new_lst.append(i + 1)\n",
    "\n",
    "print(new_lst)    "
   ]
  },
  {
   "cell_type": "code",
   "execution_count": 13,
   "id": "94dff98a",
   "metadata": {},
   "outputs": [
    {
     "name": "stdout",
     "output_type": "stream",
     "text": [
      "<map object at 0x000001BD9430D370>\n"
     ]
    }
   ],
   "source": [
    "map_ele = map(add_one, lst)\n",
    "print(map_ele)"
   ]
  },
  {
   "cell_type": "code",
   "execution_count": 15,
   "id": "50b27e3d",
   "metadata": {},
   "outputs": [
    {
     "name": "stdout",
     "output_type": "stream",
     "text": [
      "[2, 3, 4, 5, 6]\n"
     ]
    }
   ],
   "source": [
    "print(list(map_ele))"
   ]
  },
  {
   "cell_type": "markdown",
   "id": "9db6ac55",
   "metadata": {},
   "source": [
    "Filter"
   ]
  },
  {
   "cell_type": "code",
   "execution_count": 17,
   "id": "3b07d9ea",
   "metadata": {},
   "outputs": [],
   "source": [
    "def is_even(x):\n",
    "    return x % 2 == 0"
   ]
  },
  {
   "cell_type": "code",
   "execution_count": 18,
   "id": "ad8fff08",
   "metadata": {},
   "outputs": [
    {
     "data": {
      "text/plain": [
       "False"
      ]
     },
     "execution_count": 18,
     "metadata": {},
     "output_type": "execute_result"
    }
   ],
   "source": [
    "is_even(5)"
   ]
  },
  {
   "cell_type": "code",
   "execution_count": 19,
   "id": "349630d7",
   "metadata": {},
   "outputs": [
    {
     "name": "stdout",
     "output_type": "stream",
     "text": [
      "<filter object at 0x000001BD9430D340>\n"
     ]
    }
   ],
   "source": [
    "filter_ele = filter(is_even, lst)\n",
    "print(filter_ele)"
   ]
  },
  {
   "cell_type": "code",
   "execution_count": 20,
   "id": "117b20f5",
   "metadata": {},
   "outputs": [
    {
     "name": "stdout",
     "output_type": "stream",
     "text": [
      "[2, 4]\n"
     ]
    }
   ],
   "source": [
    "print(list(filter_ele))"
   ]
  },
  {
   "cell_type": "code",
   "execution_count": null,
   "id": "da71968d",
   "metadata": {},
   "outputs": [],
   "source": []
  }
 ],
 "metadata": {
  "kernelspec": {
   "display_name": "Python 3 (ipykernel)",
   "language": "python",
   "name": "python3"
  },
  "language_info": {
   "codemirror_mode": {
    "name": "ipython",
    "version": 3
   },
   "file_extension": ".py",
   "mimetype": "text/x-python",
   "name": "python",
   "nbconvert_exporter": "python",
   "pygments_lexer": "ipython3",
   "version": "3.9.7"
  }
 },
 "nbformat": 4,
 "nbformat_minor": 5
}
