{
 "cells": [
  {
   "cell_type": "markdown",
   "id": "a750cf94",
   "metadata": {},
   "source": [
    "# Function Arguments\n",
    "- Arguments VS Parameters\n",
    "  - default arguments\n",
    "  - arbitary arguments (args)\n",
    "  - keyword arguments (kwargs)"
   ]
  },
  {
   "cell_type": "markdown",
   "id": "9d795781",
   "metadata": {},
   "source": [
    "default parameters: parameters that have some default values. They are optional parameters"
   ]
  },
  {
   "cell_type": "code",
   "execution_count": 6,
   "id": "1253f6b9",
   "metadata": {},
   "outputs": [],
   "source": [
    "def intro(name, nationality = \"Indian\"):\n",
    "    print(\"Hello\", name)\n",
    "    print(\"I'm\", nationality)"
   ]
  },
  {
   "cell_type": "code",
   "execution_count": 7,
   "id": "6a1a64d5",
   "metadata": {},
   "outputs": [
    {
     "name": "stdout",
     "output_type": "stream",
     "text": [
      "Hello Yash\n",
      "I'm Indian\n"
     ]
    }
   ],
   "source": [
    "intro(\"Yash\")"
   ]
  },
  {
   "cell_type": "code",
   "execution_count": 8,
   "id": "74e0b1fd",
   "metadata": {},
   "outputs": [
    {
     "name": "stdout",
     "output_type": "stream",
     "text": [
      "Hello Alia\n",
      "I'm American\n"
     ]
    }
   ],
   "source": [
    "intro(\"Alia\", \"American\")"
   ]
  }
 ],
 "metadata": {
  "kernelspec": {
   "display_name": "Python 3 (ipykernel)",
   "language": "python",
   "name": "python3"
  },
  "language_info": {
   "codemirror_mode": {
    "name": "ipython",
    "version": 3
   },
   "file_extension": ".py",
   "mimetype": "text/x-python",
   "name": "python",
   "nbconvert_exporter": "python",
   "pygments_lexer": "ipython3",
   "version": "3.9.7"
  }
 },
 "nbformat": 4,
 "nbformat_minor": 5
}
