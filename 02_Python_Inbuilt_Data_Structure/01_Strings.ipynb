{
 "cells": [
  {
   "cell_type": "markdown",
   "id": "62aca856",
   "metadata": {},
   "source": [
    "# STRINGS\n"
   ]
  },
  {
   "cell_type": "markdown",
   "id": "b129b418",
   "metadata": {},
   "source": [
    "- Strings in python are the sequence of unicode characters."
   ]
  },
  {
   "cell_type": "code",
   "execution_count": 1,
   "id": "482a4786",
   "metadata": {},
   "outputs": [],
   "source": [
    "my_str = \"Welcome to the Course\""
   ]
  },
  {
   "cell_type": "code",
   "execution_count": 2,
   "id": "9ee96f82",
   "metadata": {},
   "outputs": [
    {
     "name": "stdout",
     "output_type": "stream",
     "text": [
      "Welcome to the Course\n"
     ]
    }
   ],
   "source": [
    "print(my_str)"
   ]
  },
  {
   "cell_type": "code",
   "execution_count": 3,
   "id": "e2635ecc",
   "metadata": {},
   "outputs": [
    {
     "data": {
      "text/plain": [
       "str"
      ]
     },
     "execution_count": 3,
     "metadata": {},
     "output_type": "execute_result"
    }
   ],
   "source": [
    "type(my_str)"
   ]
  },
  {
   "cell_type": "code",
   "execution_count": 4,
   "id": "0dc3c7b7",
   "metadata": {},
   "outputs": [
    {
     "name": "stdout",
     "output_type": "stream",
     "text": [
      "<class 'str'>\n"
     ]
    }
   ],
   "source": [
    "print(type(my_str))"
   ]
  },
  {
   "cell_type": "markdown",
   "id": "2b85bb26",
   "metadata": {},
   "source": [
    "- Indexing a String\n",
    "<center>Accessing one character based on the position</center>"
   ]
  },
  {
   "cell_type": "code",
   "execution_count": 7,
   "id": "b4c85153",
   "metadata": {},
   "outputs": [
    {
     "name": "stdout",
     "output_type": "stream",
     "text": [
      "W\n",
      "e\n"
     ]
    }
   ],
   "source": [
    "print(my_str[0])\n",
    "print(my_str[1])"
   ]
  },
  {
   "cell_type": "code",
   "execution_count": 8,
   "id": "74b8e04b",
   "metadata": {},
   "outputs": [
    {
     "data": {
      "text/plain": [
       "21"
      ]
     },
     "execution_count": 8,
     "metadata": {},
     "output_type": "execute_result"
    }
   ],
   "source": [
    "# Total number characters in a string\n",
    "len(my_str)"
   ]
  },
  {
   "cell_type": "code",
   "execution_count": 13,
   "id": "ac8674d9",
   "metadata": {},
   "outputs": [
    {
     "name": "stdout",
     "output_type": "stream",
     "text": [
      "e\n"
     ]
    }
   ],
   "source": [
    "# Accessing last element of String\n",
    "print(my_str[len(my_str) - 1])"
   ]
  },
  {
   "cell_type": "code",
   "execution_count": 14,
   "id": "17996c4e",
   "metadata": {},
   "outputs": [
    {
     "data": {
      "text/plain": [
       "'e'"
      ]
     },
     "execution_count": 14,
     "metadata": {},
     "output_type": "execute_result"
    }
   ],
   "source": [
    "my_str[len(my_str) - 1]"
   ]
  },
  {
   "cell_type": "markdown",
   "id": "6be3d7fa",
   "metadata": {},
   "source": [
    "# Negative Indexing\n",
    "- writting len(my_str) is optional.\n",
    "- That's how Python give rise to negative indexing"
   ]
  },
  {
   "cell_type": "code",
   "execution_count": 15,
   "id": "27f3bc11",
   "metadata": {},
   "outputs": [
    {
     "data": {
      "text/plain": [
       "'e'"
      ]
     },
     "execution_count": 15,
     "metadata": {},
     "output_type": "execute_result"
    }
   ],
   "source": [
    "my_str[-1] # Last character"
   ]
  },
  {
   "cell_type": "code",
   "execution_count": 16,
   "id": "198dc7e0",
   "metadata": {},
   "outputs": [
    {
     "data": {
      "text/plain": [
       "'o'"
      ]
     },
     "execution_count": 16,
     "metadata": {},
     "output_type": "execute_result"
    }
   ],
   "source": [
    "my_str[-5] # 5th last character"
   ]
  },
  {
   "cell_type": "markdown",
   "id": "eee36379",
   "metadata": {},
   "source": [
    "# String Slicing\n",
    "- extracting multiple characters from a string (sub string)\n",
    "- Syntax: str[start_idx : end_idx + 1}"
   ]
  },
  {
   "cell_type": "code",
   "execution_count": 18,
   "id": "752ee320",
   "metadata": {},
   "outputs": [
    {
     "data": {
      "text/plain": [
       "'lcome'"
      ]
     },
     "execution_count": 18,
     "metadata": {},
     "output_type": "execute_result"
    }
   ],
   "source": [
    "my_str[2:7]"
   ]
  },
  {
   "cell_type": "code",
   "execution_count": 20,
   "id": "7005a4a1",
   "metadata": {},
   "outputs": [
    {
     "name": "stdout",
     "output_type": "stream",
     "text": [
      "Welcome to the Course\n"
     ]
    }
   ],
   "source": [
    "print(my_str[:])"
   ]
  },
  {
   "cell_type": "code",
   "execution_count": 21,
   "id": "3e719227",
   "metadata": {},
   "outputs": [
    {
     "name": "stdout",
     "output_type": "stream",
     "text": [
      "Welcome to the Cour\n"
     ]
    }
   ],
   "source": [
    "# All the character expect last 2\n",
    "print(my_str[:-2])"
   ]
  },
  {
   "cell_type": "code",
   "execution_count": null,
   "id": "1492f461",
   "metadata": {},
   "outputs": [],
   "source": []
  }
 ],
 "metadata": {
  "kernelspec": {
   "display_name": "Python 3 (ipykernel)",
   "language": "python",
   "name": "python3"
  },
  "language_info": {
   "codemirror_mode": {
    "name": "ipython",
    "version": 3
   },
   "file_extension": ".py",
   "mimetype": "text/x-python",
   "name": "python",
   "nbconvert_exporter": "python",
   "pygments_lexer": "ipython3",
   "version": "3.9.7"
  }
 },
 "nbformat": 4,
 "nbformat_minor": 5
}
