{
 "cells": [
  {
   "cell_type": "markdown",
   "id": "d7bbe8ae",
   "metadata": {},
   "source": [
    "# Lists\n",
    "- ordered/sequence collection of elements\n",
    "- indexable\n",
    "- mutable\n",
    "- can store heterogenous elements"
   ]
  },
  {
   "cell_type": "code",
   "execution_count": 23,
   "id": "d7b33db8",
   "metadata": {},
   "outputs": [],
   "source": [
    "my_list = [6,3,2,8,4]"
   ]
  },
  {
   "cell_type": "code",
   "execution_count": 14,
   "id": "c5ad1117",
   "metadata": {},
   "outputs": [
    {
     "name": "stdout",
     "output_type": "stream",
     "text": [
      "[6, 3, 2, 8, 4]\n"
     ]
    }
   ],
   "source": [
    "print(my_list)"
   ]
  },
  {
   "cell_type": "code",
   "execution_count": 15,
   "id": "550757cf",
   "metadata": {},
   "outputs": [
    {
     "data": {
      "text/plain": [
       "list"
      ]
     },
     "execution_count": 15,
     "metadata": {},
     "output_type": "execute_result"
    }
   ],
   "source": [
    "type(my_list)"
   ]
  },
  {
   "cell_type": "markdown",
   "id": "058d4d0d",
   "metadata": {},
   "source": [
    "# Indexing/Slicing of List works same way as Strings"
   ]
  },
  {
   "cell_type": "code",
   "execution_count": 16,
   "id": "f32dec80",
   "metadata": {},
   "outputs": [
    {
     "name": "stdout",
     "output_type": "stream",
     "text": [
      "6\n"
     ]
    }
   ],
   "source": [
    "print(my_list[0])"
   ]
  },
  {
   "cell_type": "code",
   "execution_count": 17,
   "id": "d27dfc84",
   "metadata": {},
   "outputs": [
    {
     "name": "stdout",
     "output_type": "stream",
     "text": [
      "4\n"
     ]
    }
   ],
   "source": [
    "print(my_list[-1])"
   ]
  },
  {
   "cell_type": "code",
   "execution_count": 18,
   "id": "30acdef1",
   "metadata": {},
   "outputs": [
    {
     "name": "stdout",
     "output_type": "stream",
     "text": [
      "[3, 2, 8]\n"
     ]
    }
   ],
   "source": [
    "print(my_list[1:-1]) # list slicing"
   ]
  },
  {
   "cell_type": "code",
   "execution_count": 19,
   "id": "b4a7d62d",
   "metadata": {},
   "outputs": [
    {
     "name": "stdout",
     "output_type": "stream",
     "text": [
      "[99, 3, 2, 8, 4]\n"
     ]
    }
   ],
   "source": [
    "# because of mutable property\n",
    "my_list[0] = 99\n",
    "print(my_list)"
   ]
  },
  {
   "cell_type": "markdown",
   "id": "39c8830f",
   "metadata": {},
   "source": [
    "# Some important methods for lists"
   ]
  },
  {
   "cell_type": "code",
   "execution_count": 20,
   "id": "08df4a8a",
   "metadata": {},
   "outputs": [
    {
     "name": "stdout",
     "output_type": "stream",
     "text": [
      "[99, 3, 2, 8, 4, 33]\n"
     ]
    }
   ],
   "source": [
    "# adds the given element at the end of the list\n",
    "my_list.append(33)\n",
    "print(my_list)"
   ]
  },
  {
   "cell_type": "code",
   "execution_count": 24,
   "id": "98472c9c",
   "metadata": {},
   "outputs": [
    {
     "name": "stdout",
     "output_type": "stream",
     "text": [
      "[6, 88, 3, 2, 8, 4]\n"
     ]
    }
   ],
   "source": [
    "my_list.insert(1,88)\n",
    "print(my_list)"
   ]
  },
  {
   "cell_type": "code",
   "execution_count": 25,
   "id": "46d1203b",
   "metadata": {},
   "outputs": [
    {
     "data": {
      "text/plain": [
       "4"
      ]
     },
     "execution_count": 25,
     "metadata": {},
     "output_type": "execute_result"
    }
   ],
   "source": [
    "# delete the last element.\n",
    "# pop function can also take index if you want to delete specific index.\n",
    "my_list.pop()"
   ]
  },
  {
   "cell_type": "code",
   "execution_count": 28,
   "id": "1b367e91",
   "metadata": {},
   "outputs": [
    {
     "name": "stdout",
     "output_type": "stream",
     "text": [
      "[8, 2, 3, 88, 6]\n"
     ]
    }
   ],
   "source": [
    "print(my_list)"
   ]
  },
  {
   "cell_type": "code",
   "execution_count": 29,
   "id": "393b288e",
   "metadata": {},
   "outputs": [
    {
     "name": "stdout",
     "output_type": "stream",
     "text": [
      "[6, 88, 3, 2, 8]\n"
     ]
    }
   ],
   "source": [
    "my_list.reverse()\n",
    "print(my_list)"
   ]
  },
  {
   "cell_type": "code",
   "execution_count": 33,
   "id": "be4c0e4d",
   "metadata": {},
   "outputs": [
    {
     "name": "stdout",
     "output_type": "stream",
     "text": [
      "[2, 3, 6, 8, 88]\n"
     ]
    }
   ],
   "source": [
    "my_list.sort()\n",
    "print(my_list)"
   ]
  },
  {
   "cell_type": "code",
   "execution_count": 34,
   "id": "22057022",
   "metadata": {},
   "outputs": [
    {
     "name": "stdout",
     "output_type": "stream",
     "text": [
      "[88, 8, 6, 3, 2]\n"
     ]
    }
   ],
   "source": [
    "# sorts in descending order\n",
    "my_list.sort(reverse = True)\n",
    "print(my_list)"
   ]
  },
  {
   "cell_type": "code",
   "execution_count": 35,
   "id": "97567b61",
   "metadata": {},
   "outputs": [
    {
     "data": {
      "text/plain": [
       "True"
      ]
     },
     "execution_count": 35,
     "metadata": {},
     "output_type": "execute_result"
    }
   ],
   "source": [
    "# in operator\n",
    "8 in my_list"
   ]
  },
  {
   "cell_type": "code",
   "execution_count": 36,
   "id": "935e5a28",
   "metadata": {},
   "outputs": [
    {
     "name": "stdout",
     "output_type": "stream",
     "text": [
      "7744\n",
      "64\n",
      "36\n",
      "9\n",
      "4\n"
     ]
    }
   ],
   "source": [
    "# iterating over elements of list and taking their squares\n",
    "for ele in my_list:\n",
    "    print(ele**2)"
   ]
  },
  {
   "cell_type": "code",
   "execution_count": null,
   "id": "f553d3ee",
   "metadata": {},
   "outputs": [],
   "source": []
  }
 ],
 "metadata": {
  "kernelspec": {
   "display_name": "Python 3 (ipykernel)",
   "language": "python",
   "name": "python3"
  },
  "language_info": {
   "codemirror_mode": {
    "name": "ipython",
    "version": 3
   },
   "file_extension": ".py",
   "mimetype": "text/x-python",
   "name": "python",
   "nbconvert_exporter": "python",
   "pygments_lexer": "ipython3",
   "version": "3.9.7"
  }
 },
 "nbformat": 4,
 "nbformat_minor": 5
}
