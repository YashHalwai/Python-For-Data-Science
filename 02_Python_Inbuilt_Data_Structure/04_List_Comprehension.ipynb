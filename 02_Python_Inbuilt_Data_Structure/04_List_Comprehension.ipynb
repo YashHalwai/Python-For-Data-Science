{
 "cells": [
  {
   "cell_type": "code",
   "execution_count": 1,
   "id": "d4981c45",
   "metadata": {},
   "outputs": [
    {
     "name": "stdout",
     "output_type": "stream",
     "text": [
      "[99, 88, 8, 4, 3, 2]\n"
     ]
    }
   ],
   "source": [
    "my_list = [99,88,8,4,3,2]\n",
    "print(my_list)"
   ]
  },
  {
   "cell_type": "code",
   "execution_count": 3,
   "id": "3b1ccf0b",
   "metadata": {},
   "outputs": [
    {
     "name": "stdout",
     "output_type": "stream",
     "text": [
      "[9801, 7744, 64, 16, 9, 4]\n"
     ]
    }
   ],
   "source": [
    "# creating a new list of squares of each element\n",
    "new_list = []\n",
    "\n",
    "for ele in my_list:\n",
    "    new_list.append(ele**2)\n",
    "print(new_list)    "
   ]
  },
  {
   "cell_type": "code",
   "execution_count": 4,
   "id": "849f6f20",
   "metadata": {},
   "outputs": [
    {
     "name": "stdout",
     "output_type": "stream",
     "text": [
      "[9801, 7744, 64, 16, 9, 4]\n"
     ]
    }
   ],
   "source": [
    "# List Comprehension\n",
    "new_list2 = [ele ** 2 for ele in my_list]\n",
    "print(new_list2)"
   ]
  },
  {
   "cell_type": "code",
   "execution_count": 5,
   "id": "197e586d",
   "metadata": {},
   "outputs": [
    {
     "name": "stdout",
     "output_type": "stream",
     "text": [
      "[4, True, 98.4, [9, 6, 3], 'Python', 100]\n"
     ]
    }
   ],
   "source": [
    "# Eg of heterogenous list\n",
    "my_list_2 = [4,True,98.4,[9,6,3],\"Python\",100]\n",
    "print(my_list_2)"
   ]
  },
  {
   "cell_type": "code",
   "execution_count": 7,
   "id": "3d98a66c",
   "metadata": {},
   "outputs": [
    {
     "data": {
      "text/plain": [
       "6"
      ]
     },
     "execution_count": 7,
     "metadata": {},
     "output_type": "execute_result"
    }
   ],
   "source": [
    "len(my_list_2)"
   ]
  },
  {
   "cell_type": "code",
   "execution_count": 6,
   "id": "dfcc3f7b",
   "metadata": {},
   "outputs": [
    {
     "name": "stdout",
     "output_type": "stream",
     "text": [
      "[[1, 2, 3], [4, 5, 6], [7, 8, 9]]\n"
     ]
    }
   ],
   "source": [
    "list_2d = [[1,2,3], [4,5,6], [7,8,9]]\n",
    "print(list_2d)"
   ]
  },
  {
   "cell_type": "code",
   "execution_count": 8,
   "id": "4eed26b7",
   "metadata": {},
   "outputs": [
    {
     "name": "stdout",
     "output_type": "stream",
     "text": [
      "[4, 5, 6]\n"
     ]
    }
   ],
   "source": [
    "print(list_2d[1])"
   ]
  },
  {
   "cell_type": "code",
   "execution_count": 9,
   "id": "b34b366e",
   "metadata": {},
   "outputs": [
    {
     "name": "stdout",
     "output_type": "stream",
     "text": [
      "4\n"
     ]
    }
   ],
   "source": [
    "# accessing an element in 2d list\n",
    "print(list_2d[1][0])"
   ]
  },
  {
   "cell_type": "code",
   "execution_count": 6,
   "id": "b3a1c03b",
   "metadata": {},
   "outputs": [
    {
     "name": "stdout",
     "output_type": "stream",
     "text": [
      "6\n"
     ]
    }
   ],
   "source": [
    "lst = [4,5,6,3,2,7]\n",
    "lst.sort()\n",
    "lst.reverse()\n",
    "print(lst[1])"
   ]
  },
  {
   "cell_type": "code",
   "execution_count": 12,
   "id": "277835e9",
   "metadata": {},
   "outputs": [
    {
     "name": "stdout",
     "output_type": "stream",
     "text": [
      "8\n"
     ]
    }
   ],
   "source": [
    "l = [1,4.5,8,9,5,6]\n",
    "l.sort()\n",
    "print(l[-2])\n",
    "\n",
    "    "
   ]
  },
  {
   "cell_type": "code",
   "execution_count": null,
   "id": "2f1ce388",
   "metadata": {},
   "outputs": [],
   "source": []
  }
 ],
 "metadata": {
  "kernelspec": {
   "display_name": "Python 3 (ipykernel)",
   "language": "python",
   "name": "python3"
  },
  "language_info": {
   "codemirror_mode": {
    "name": "ipython",
    "version": 3
   },
   "file_extension": ".py",
   "mimetype": "text/x-python",
   "name": "python",
   "nbconvert_exporter": "python",
   "pygments_lexer": "ipython3",
   "version": "3.9.7"
  }
 },
 "nbformat": 4,
 "nbformat_minor": 5
}
