{
 "cells": [
  {
   "cell_type": "markdown",
   "id": "4d6e09ed",
   "metadata": {},
   "source": [
    "# Set\n",
    " - contains only unique elements\n",
    " - mutable\n",
    " - unordered\n",
    " - unindexable"
   ]
  },
  {
   "cell_type": "code",
   "execution_count": 1,
   "id": "b02cec8d",
   "metadata": {},
   "outputs": [],
   "source": [
    "my_set = {9, 7, 7, 1, 8, 9, 7, 5, 1}"
   ]
  },
  {
   "cell_type": "code",
   "execution_count": 2,
   "id": "328bf83a",
   "metadata": {},
   "outputs": [
    {
     "name": "stdout",
     "output_type": "stream",
     "text": [
      "{1, 5, 7, 8, 9}\n"
     ]
    }
   ],
   "source": [
    "# No dupicate elements\n",
    "print(my_set)"
   ]
  },
  {
   "cell_type": "code",
   "execution_count": 4,
   "id": "731df71e",
   "metadata": {},
   "outputs": [
    {
     "name": "stdout",
     "output_type": "stream",
     "text": [
      "{1, 99, 5, 7, 8, 9}\n"
     ]
    }
   ],
   "source": [
    "# No matter how many times you add same element, it will be available only once...\n",
    "my_set.add(99)\n",
    "print(my_set)"
   ]
  },
  {
   "cell_type": "code",
   "execution_count": 5,
   "id": "e76a79ff",
   "metadata": {},
   "outputs": [
    {
     "name": "stdout",
     "output_type": "stream",
     "text": [
      "{1, 99, 5, 7, 8, 9}\n"
     ]
    }
   ],
   "source": [
    "my_set.add(99)\n",
    "print(my_set)"
   ]
  },
  {
   "cell_type": "code",
   "execution_count": 7,
   "id": "64afad6e",
   "metadata": {},
   "outputs": [
    {
     "name": "stdout",
     "output_type": "stream",
     "text": [
      "{1, 99, 5, 7, 9}\n"
     ]
    }
   ],
   "source": [
    "# remove element from set\n",
    "my_set.remove(8)\n",
    "print(my_set)"
   ]
  },
  {
   "cell_type": "markdown",
   "id": "6ae563f3",
   "metadata": {},
   "source": [
    "# Remove Duplicate Numbers from List"
   ]
  },
  {
   "cell_type": "code",
   "execution_count": 9,
   "id": "8a02b006",
   "metadata": {},
   "outputs": [],
   "source": [
    "lst = [1,5,6,9,8,7,4,6,3,5,1,2,5,6,4,5,2,1,0,2,1,6,3,5,9,7,8]"
   ]
  },
  {
   "cell_type": "code",
   "execution_count": 15,
   "id": "9dd418ea",
   "metadata": {},
   "outputs": [],
   "source": [
    "new_s = set(lst) # set constructor"
   ]
  },
  {
   "cell_type": "code",
   "execution_count": 16,
   "id": "07952b94",
   "metadata": {},
   "outputs": [
    {
     "data": {
      "text/plain": [
       "{0, 1, 2, 3, 4, 5, 6, 7, 8, 9}"
      ]
     },
     "execution_count": 16,
     "metadata": {},
     "output_type": "execute_result"
    }
   ],
   "source": [
    "new_s"
   ]
  },
  {
   "cell_type": "code",
   "execution_count": 19,
   "id": "458c4d80",
   "metadata": {},
   "outputs": [],
   "source": [
    "new_l = list(new_s)"
   ]
  },
  {
   "cell_type": "code",
   "execution_count": 20,
   "id": "f5df910e",
   "metadata": {},
   "outputs": [
    {
     "data": {
      "text/plain": [
       "[0, 1, 2, 3, 4, 5, 6, 7, 8, 9]"
      ]
     },
     "execution_count": 20,
     "metadata": {},
     "output_type": "execute_result"
    }
   ],
   "source": [
    "new_l"
   ]
  },
  {
   "cell_type": "code",
   "execution_count": null,
   "id": "0eb77dc4",
   "metadata": {},
   "outputs": [],
   "source": []
  }
 ],
 "metadata": {
  "kernelspec": {
   "display_name": "Python 3 (ipykernel)",
   "language": "python",
   "name": "python3"
  },
  "language_info": {
   "codemirror_mode": {
    "name": "ipython",
    "version": 3
   },
   "file_extension": ".py",
   "mimetype": "text/x-python",
   "name": "python",
   "nbconvert_exporter": "python",
   "pygments_lexer": "ipython3",
   "version": "3.9.7"
  }
 },
 "nbformat": 4,
 "nbformat_minor": 5
}
