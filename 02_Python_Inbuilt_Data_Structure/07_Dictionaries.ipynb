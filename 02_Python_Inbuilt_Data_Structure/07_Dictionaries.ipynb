{
 "cells": [
  {
   "cell_type": "markdown",
   "id": "f33f6807",
   "metadata": {},
   "source": [
    "# Dictionaries"
   ]
  },
  {
   "cell_type": "markdown",
   "id": "8c5527b7",
   "metadata": {},
   "source": [
    "- stores data in key-value pair\n",
    "- unordered\n",
    "- unindexable\n",
    "- access the value, with help of keys"
   ]
  },
  {
   "cell_type": "code",
   "execution_count": 6,
   "id": "2bb44077",
   "metadata": {},
   "outputs": [],
   "source": [
    "user_info = {\n",
    "    \"Name\": \"Yash\",\n",
    "    \"Age\": 19,\n",
    "    \"Nationality\": \"Indian\"\n",
    "}"
   ]
  },
  {
   "cell_type": "code",
   "execution_count": 7,
   "id": "28a1b136",
   "metadata": {},
   "outputs": [
    {
     "name": "stdout",
     "output_type": "stream",
     "text": [
      "{'Name': 'Yash', 'Age': 19, 'Nationality': 'Indian'}\n"
     ]
    }
   ],
   "source": [
    "print(user_info)"
   ]
  },
  {
   "cell_type": "code",
   "execution_count": 8,
   "id": "83b17da4",
   "metadata": {},
   "outputs": [
    {
     "data": {
      "text/plain": [
       "dict"
      ]
     },
     "execution_count": 8,
     "metadata": {},
     "output_type": "execute_result"
    }
   ],
   "source": [
    "type(user_info)"
   ]
  },
  {
   "cell_type": "code",
   "execution_count": 15,
   "id": "a8cd1672",
   "metadata": {},
   "outputs": [
    {
     "name": "stdout",
     "output_type": "stream",
     "text": [
      "Yash\n",
      "Indian\n"
     ]
    }
   ],
   "source": [
    "# accessing element in dictionary\n",
    "\n",
    "print(user_info['Name'])\n",
    "print(user_info['Nationality'])"
   ]
  },
  {
   "cell_type": "code",
   "execution_count": 16,
   "id": "9470eada",
   "metadata": {},
   "outputs": [
    {
     "ename": "KeyError",
     "evalue": "'Hobby'",
     "output_type": "error",
     "traceback": [
      "\u001b[1;31m---------------------------------------------------------------------------\u001b[0m",
      "\u001b[1;31mKeyError\u001b[0m                                  Traceback (most recent call last)",
      "\u001b[1;32m~\\AppData\\Local\\Temp/ipykernel_5140/259254351.py\u001b[0m in \u001b[0;36m<module>\u001b[1;34m\u001b[0m\n\u001b[0;32m      1\u001b[0m \u001b[1;31m# unknow key gives error\u001b[0m\u001b[1;33m\u001b[0m\u001b[1;33m\u001b[0m\u001b[0m\n\u001b[1;32m----> 2\u001b[1;33m \u001b[0mprint\u001b[0m\u001b[1;33m(\u001b[0m\u001b[0muser_info\u001b[0m\u001b[1;33m[\u001b[0m\u001b[1;34m'Hobby'\u001b[0m\u001b[1;33m]\u001b[0m\u001b[1;33m)\u001b[0m\u001b[1;33m\u001b[0m\u001b[1;33m\u001b[0m\u001b[0m\n\u001b[0m",
      "\u001b[1;31mKeyError\u001b[0m: 'Hobby'"
     ]
    }
   ],
   "source": [
    "# unknow key gives error\n",
    "print(user_info['Hobby'])"
   ]
  },
  {
   "cell_type": "code",
   "execution_count": 17,
   "id": "edbc9972",
   "metadata": {},
   "outputs": [],
   "source": [
    "# no error\n",
    "user_info.get('Hobby')"
   ]
  },
  {
   "cell_type": "code",
   "execution_count": 18,
   "id": "99a40fa0",
   "metadata": {},
   "outputs": [],
   "source": [
    "# add data in dictionary\n",
    "user_info['Hobby'] = [\"Cricket\", \"Coding\", \"Movie\"]"
   ]
  },
  {
   "cell_type": "code",
   "execution_count": 19,
   "id": "859e4246",
   "metadata": {},
   "outputs": [
    {
     "name": "stdout",
     "output_type": "stream",
     "text": [
      "{'Name': 'Yash', 'Age': 19, 'Nationality': 'Indian', 'Hobby': ['Cricket', 'Coding', 'Movie']}\n"
     ]
    }
   ],
   "source": [
    "print(user_info)"
   ]
  },
  {
   "cell_type": "code",
   "execution_count": 20,
   "id": "2d17897c",
   "metadata": {},
   "outputs": [
    {
     "data": {
      "text/plain": [
       "dict_keys(['Name', 'Age', 'Nationality', 'Hobby'])"
      ]
     },
     "execution_count": 20,
     "metadata": {},
     "output_type": "execute_result"
    }
   ],
   "source": [
    "# display all keys\n",
    "user_info.keys()"
   ]
  },
  {
   "cell_type": "code",
   "execution_count": 21,
   "id": "d525b188",
   "metadata": {},
   "outputs": [
    {
     "data": {
      "text/plain": [
       "dict_values(['Yash', 19, 'Indian', ['Cricket', 'Coding', 'Movie']])"
      ]
     },
     "execution_count": 21,
     "metadata": {},
     "output_type": "execute_result"
    }
   ],
   "source": [
    "# display all values\n",
    "user_info.values()"
   ]
  },
  {
   "cell_type": "code",
   "execution_count": 23,
   "id": "d3c3f0fe",
   "metadata": {},
   "outputs": [
    {
     "data": {
      "text/plain": [
       "dict_items([('Name', 'Yash'), ('Age', 19), ('Nationality', 'Indian'), ('Hobby', ['Cricket', 'Coding', 'Movie'])])"
      ]
     },
     "execution_count": 23,
     "metadata": {},
     "output_type": "execute_result"
    }
   ],
   "source": [
    "# display (key, value) pair in tuples\n",
    "user_info.items()"
   ]
  },
  {
   "cell_type": "code",
   "execution_count": 27,
   "id": "bde146c5",
   "metadata": {},
   "outputs": [
    {
     "name": "stdout",
     "output_type": "stream",
     "text": [
      "Name : Yash\n",
      "Age : 19\n",
      "Nationality : Indian\n",
      "Hobby : ['Cricket', 'Coding', 'Movie']\n"
     ]
    }
   ],
   "source": [
    "for k,v in user_info.items():\n",
    "    print(k, \":\", v)"
   ]
  },
  {
   "cell_type": "code",
   "execution_count": 28,
   "id": "f04980c6",
   "metadata": {},
   "outputs": [
    {
     "data": {
      "text/plain": [
       "['Cricket', 'Coding', 'Movie']"
      ]
     },
     "execution_count": 28,
     "metadata": {},
     "output_type": "execute_result"
    }
   ],
   "source": [
    "# delete key, value\n",
    "user_info.pop('Hobby')"
   ]
  },
  {
   "cell_type": "code",
   "execution_count": 30,
   "id": "da38296e",
   "metadata": {},
   "outputs": [
    {
     "name": "stdout",
     "output_type": "stream",
     "text": [
      "{'Name': 'Yash', 'Age': 19, 'Nationality': 'Indian'}\n"
     ]
    }
   ],
   "source": [
    "print(user_info)"
   ]
  },
  {
   "cell_type": "code",
   "execution_count": 33,
   "id": "979bc110",
   "metadata": {},
   "outputs": [],
   "source": [
    "user_info['Name'] = 'Yash H'"
   ]
  },
  {
   "cell_type": "code",
   "execution_count": 34,
   "id": "c35e3952",
   "metadata": {},
   "outputs": [
    {
     "name": "stdout",
     "output_type": "stream",
     "text": [
      "{'Name': 'Yash H', 'Age': 19, 'Nationality': 'Indian'}\n"
     ]
    }
   ],
   "source": [
    "print(user_info)"
   ]
  },
  {
   "cell_type": "code",
   "execution_count": 1,
   "id": "4a852e7f",
   "metadata": {},
   "outputs": [],
   "source": [
    "user_info = {\n",
    "    \"Name\": \"Yash\",\n",
    "    \"Age\": 19,\n",
    "    \"Nationality\": \"Indian\"\n",
    "}"
   ]
  },
  {
   "cell_type": "code",
   "execution_count": 2,
   "id": "dccc5af9",
   "metadata": {},
   "outputs": [
    {
     "name": "stdout",
     "output_type": "stream",
     "text": [
      "{'Name': 'Yash', 'Age': 19, 'Nationality': 'Indian'}\n"
     ]
    }
   ],
   "source": [
    "print(user_info)"
   ]
  },
  {
   "cell_type": "code",
   "execution_count": null,
   "id": "bb67df0f",
   "metadata": {},
   "outputs": [],
   "source": []
  }
 ],
 "metadata": {
  "kernelspec": {
   "display_name": "Python 3 (ipykernel)",
   "language": "python",
   "name": "python3"
  },
  "language_info": {
   "codemirror_mode": {
    "name": "ipython",
    "version": 3
   },
   "file_extension": ".py",
   "mimetype": "text/x-python",
   "name": "python",
   "nbconvert_exporter": "python",
   "pygments_lexer": "ipython3",
   "version": "3.9.7"
  }
 },
 "nbformat": 4,
 "nbformat_minor": 5
}
