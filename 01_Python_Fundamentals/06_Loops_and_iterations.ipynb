{
 "cells": [
  {
   "cell_type": "markdown",
   "id": "1d2f5d1d",
   "metadata": {},
   "source": [
    "# Control Flow: Iterations Loop\n",
    "- while loop\n",
    "- for loop"
   ]
  },
  {
   "cell_type": "code",
   "execution_count": 1,
   "id": "2127d923",
   "metadata": {},
   "outputs": [
    {
     "name": "stdout",
     "output_type": "stream",
     "text": [
      "2\n",
      "4\n",
      "6\n",
      "8\n",
      "10\n",
      "12\n",
      "14\n",
      "16\n",
      "18\n",
      "20\n"
     ]
    }
   ],
   "source": [
    "i = 1\n",
    "while(i <= 20):\n",
    "    if(i % 2 == 0):\n",
    "        print(i)\n",
    "    i = i + 1    "
   ]
  },
  {
   "cell_type": "code",
   "execution_count": 4,
   "id": "d3fa2cb2",
   "metadata": {},
   "outputs": [
    {
     "name": "stdout",
     "output_type": "stream",
     "text": [
      "2, 4, 6, 8, 10, 12, 14, 16, 18, 20, "
     ]
    }
   ],
   "source": [
    "i = 1\n",
    "while(i <= 20):\n",
    "    if(i % 2 == 0):\n",
    "        print(i, end = \", \")\n",
    "    i = i + 1    "
   ]
  },
  {
   "cell_type": "code",
   "execution_count": 8,
   "id": "b64f2a17",
   "metadata": {},
   "outputs": [
    {
     "name": "stdout",
     "output_type": "stream",
     "text": [
      "2 4 6 8 10 12 14 16 18 20 "
     ]
    }
   ],
   "source": [
    "for ele in range(1,21):\n",
    "    if(ele % 2 == 0):\n",
    "        print(ele, end = \" \")"
   ]
  },
  {
   "cell_type": "code",
   "execution_count": 10,
   "id": "43aa1c83",
   "metadata": {},
   "outputs": [
    {
     "name": "stdout",
     "output_type": "stream",
     "text": [
      "2 4 6 8 10 12 14 16 18 20 "
     ]
    }
   ],
   "source": [
    "for i in range(2,21,2):\n",
    "    print(i, end = \" \")"
   ]
  },
  {
   "cell_type": "code",
   "execution_count": 11,
   "id": "73359725",
   "metadata": {},
   "outputs": [
    {
     "name": "stdout",
     "output_type": "stream",
     "text": [
      "5 x 1 = 5\n",
      "5 x 2 = 10\n",
      "5 x 3 = 15\n",
      "5 x 4 = 20\n",
      "5 x 5 = 25\n",
      "5 x 6 = 30\n",
      "5 x 7 = 35\n",
      "5 x 8 = 40\n",
      "5 x 9 = 45\n",
      "5 x 10 = 50\n"
     ]
    }
   ],
   "source": [
    "n = 5\n",
    "for i in range (1,11):\n",
    "    print(n, \"x\", i, \"=\", n*i)"
   ]
  },
  {
   "cell_type": "markdown",
   "id": "0acd8d9c",
   "metadata": {},
   "source": []
  }
 ],
 "metadata": {
  "kernelspec": {
   "display_name": "Python 3 (ipykernel)",
   "language": "python",
   "name": "python3"
  },
  "language_info": {
   "codemirror_mode": {
    "name": "ipython",
    "version": 3
   },
   "file_extension": ".py",
   "mimetype": "text/x-python",
   "name": "python",
   "nbconvert_exporter": "python",
   "pygments_lexer": "ipython3",
   "version": "3.9.7"
  }
 },
 "nbformat": 4,
 "nbformat_minor": 5
}
