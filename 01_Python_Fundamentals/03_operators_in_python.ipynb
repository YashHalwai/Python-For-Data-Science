{
 "cells": [
  {
   "cell_type": "markdown",
   "id": "134370a9",
   "metadata": {},
   "source": [
    "# Operators"
   ]
  },
  {
   "cell_type": "markdown",
   "id": "3a36bd40",
   "metadata": {},
   "source": [
    "- Arithmetic Operators"
   ]
  },
  {
   "cell_type": "code",
   "execution_count": 6,
   "id": "b18bc171",
   "metadata": {},
   "outputs": [
    {
     "name": "stdout",
     "output_type": "stream",
     "text": [
      "a + b =  20\n",
      "a - b =  10\n",
      "a * b =  75\n",
      "a / b =  3.0\n",
      "a // b =  3\n",
      "a ** b =  759375\n",
      "a % b =  0\n"
     ]
    }
   ],
   "source": [
    "n1 = 15\n",
    "n2 = 5\n",
    "add = n1 + n2\n",
    "sub = n1 - n2\n",
    "mul = n1 * n2\n",
    "div = n1 / n2\n",
    "f_div = n1 // n2\n",
    "exp = n1 ** n2\n",
    "mod = n1 % n2\n",
    "print(\"a + b = \", add)\n",
    "print(\"a - b = \", sub)\n",
    "print(\"a * b = \", mul)\n",
    "print(\"a / b = \", div)\n",
    "print(\"a // b = \",f_div)\n",
    "print(\"a ** b = \",exp)\n",
    "print(\"a % b = \", mod)"
   ]
  },
  {
   "cell_type": "markdown",
   "id": "13aa2c37",
   "metadata": {},
   "source": [
    "- Comparison Operators"
   ]
  },
  {
   "cell_type": "code",
   "execution_count": 7,
   "id": "7cda8e98",
   "metadata": {},
   "outputs": [
    {
     "name": "stdout",
     "output_type": "stream",
     "text": [
      "a > b =  True\n",
      "a < b =  False\n",
      "a >= b =  False\n",
      "a >= b =  True\n",
      "a != b =  True\n"
     ]
    }
   ],
   "source": [
    "print(\"a > b = \", n1 > n2)\n",
    "print(\"a < b = \", n1 < n2)\n",
    "print(\"a >= b = \", n1 <= n2)\n",
    "print(\"a >= b = \", n1 >= n2)\n",
    "print(\"a != b = \", n1 != n2)"
   ]
  },
  {
   "cell_type": "markdown",
   "id": "05952bd9",
   "metadata": {},
   "source": [
    "- Logical Operators"
   ]
  },
  {
   "cell_type": "code",
   "execution_count": 8,
   "id": "935c8736",
   "metadata": {},
   "outputs": [
    {
     "name": "stdout",
     "output_type": "stream",
     "text": [
      "False\n",
      "True\n",
      "True\n"
     ]
    }
   ],
   "source": [
    "print((5 > 7) and (7 < 5))\n",
    "\n",
    "print((89 > 12) or (54 < 96))\n",
    "\n",
    "print(not False)"
   ]
  },
  {
   "cell_type": "markdown",
   "id": "ebb4efd3",
   "metadata": {},
   "source": [
    "- Bitwise Operators"
   ]
  },
  {
   "cell_type": "code",
   "execution_count": 9,
   "id": "dcab2dde",
   "metadata": {},
   "outputs": [
    {
     "name": "stdout",
     "output_type": "stream",
     "text": [
      "5\n",
      "7\n"
     ]
    }
   ],
   "source": [
    "print(5 & 7)\n",
    "\n",
    "print(5 | 7)"
   ]
  },
  {
   "cell_type": "markdown",
   "id": "5a21574c",
   "metadata": {},
   "source": [
    "- Membership (in)"
   ]
  },
  {
   "cell_type": "code",
   "execution_count": 10,
   "id": "64c7e807",
   "metadata": {},
   "outputs": [
    {
     "data": {
      "text/plain": [
       "True"
      ]
     },
     "execution_count": 10,
     "metadata": {},
     "output_type": "execute_result"
    }
   ],
   "source": [
    "\"Good\" in \"Good Morning\""
   ]
  },
  {
   "cell_type": "code",
   "execution_count": null,
   "id": "ce0a05af",
   "metadata": {},
   "outputs": [],
   "source": []
  }
 ],
 "metadata": {
  "kernelspec": {
   "display_name": "Python 3 (ipykernel)",
   "language": "python",
   "name": "python3"
  },
  "language_info": {
   "codemirror_mode": {
    "name": "ipython",
    "version": 3
   },
   "file_extension": ".py",
   "mimetype": "text/x-python",
   "name": "python",
   "nbconvert_exporter": "python",
   "pygments_lexer": "ipython3",
   "version": "3.9.7"
  }
 },
 "nbformat": 4,
 "nbformat_minor": 5
}
