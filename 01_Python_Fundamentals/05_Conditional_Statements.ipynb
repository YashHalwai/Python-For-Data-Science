{
 "cells": [
  {
   "cell_type": "markdown",
   "id": "d7cd3be4",
   "metadata": {},
   "source": [
    "# Control Flow: Conditional Statements\n",
    "- if\n",
    "- else\n",
    "- elif"
   ]
  },
  {
   "cell_type": "code",
   "execution_count": 1,
   "id": "fe4b6824",
   "metadata": {},
   "outputs": [
    {
     "name": "stdout",
     "output_type": "stream",
     "text": [
      "Grow up first\n"
     ]
    }
   ],
   "source": [
    "age = 14\n",
    "\n",
    "if(age >= 18):\n",
    "    print(\"You are eligiblie to vote.\")\n",
    "else:\n",
    "    print(\"Grow up first.\")"
   ]
  },
  {
   "cell_type": "code",
   "execution_count": 5,
   "id": "ca108971",
   "metadata": {},
   "outputs": [
    {
     "name": "stdout",
     "output_type": "stream",
     "text": [
      "You can vote\n"
     ]
    }
   ],
   "source": [
    "age = 19\n",
    "if(age >= 18):\n",
    "    print(\"You can vote\")\n",
    "elif(age >= 15):\n",
    "    print(\"Grow up first\")\n",
    "else:\n",
    "    print(\"Go Home Kid\")"
   ]
  },
  {
   "cell_type": "code",
   "execution_count": null,
   "id": "02de573b",
   "metadata": {},
   "outputs": [],
   "source": []
  }
 ],
 "metadata": {
  "kernelspec": {
   "display_name": "Python 3 (ipykernel)",
   "language": "python",
   "name": "python3"
  },
  "language_info": {
   "codemirror_mode": {
    "name": "ipython",
    "version": 3
   },
   "file_extension": ".py",
   "mimetype": "text/x-python",
   "name": "python",
   "nbconvert_exporter": "python",
   "pygments_lexer": "ipython3",
   "version": "3.9.7"
  }
 },
 "nbformat": 4,
 "nbformat_minor": 5
}
