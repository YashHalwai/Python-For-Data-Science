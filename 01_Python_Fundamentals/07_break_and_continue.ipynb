{
 "cells": [
  {
   "cell_type": "code",
   "execution_count": 1,
   "id": "c01000db",
   "metadata": {},
   "outputs": [
    {
     "name": "stdout",
     "output_type": "stream",
     "text": [
      "1\n",
      "2\n",
      "3\n",
      "4\n"
     ]
    }
   ],
   "source": [
    "for i in range(1,10):\n",
    "    if(i == 5):\n",
    "        break\n",
    "    print(i)    "
   ]
  },
  {
   "cell_type": "code",
   "execution_count": 2,
   "id": "b68c485d",
   "metadata": {},
   "outputs": [
    {
     "name": "stdout",
     "output_type": "stream",
     "text": [
      "1\n",
      "2\n",
      "3\n",
      "4\n",
      "6\n",
      "7\n",
      "8\n",
      "9\n"
     ]
    }
   ],
   "source": [
    "for i in range(1,10):\n",
    "    if(i == 5):\n",
    "        continue\n",
    "    print(i)    "
   ]
  },
  {
   "cell_type": "code",
   "execution_count": 6,
   "id": "3d54cb72",
   "metadata": {},
   "outputs": [
    {
     "name": "stdout",
     "output_type": "stream",
     "text": [
      "75\n",
      "75\n",
      "Enter operator :+\n",
      "75 + 75 = 150\n"
     ]
    }
   ],
   "source": [
    "# Faulty Calculator - - >\n",
    "a = int(input())\n",
    "b = int(input())\n",
    "o = input(\"Enter operator :\")\n",
    "if(o == '+'):\n",
    "    if(a == 56 and b == 9):\n",
    "        print(a,\"+\",b,\"=\",77)\n",
    "    else:\n",
    "        print(a,\"+\",b,\"=\",a+b)\n",
    "elif(o == '-'):\n",
    "    print(a,\"-\",b,\"=\",a-b)\n",
    "elif(o == '*'):\n",
    "    if(a == 45 and b == 3):\n",
    "        print(a,\"*\",b,\"=\",555)\n",
    "    else:\n",
    "        print(a,\"*\",b,\"=\",a*b)\n",
    "elif(o == '/'):\n",
    "    if(a == 56 and b == 6):\n",
    "        print(a,\"/\",b,\"=\",4)\n",
    "    else:\n",
    "        print(a,\"/\",b,\"=\",a/b)\n",
    "else:\n",
    "    print(\"Invalid operator...\")"
   ]
  }
 ],
 "metadata": {
  "kernelspec": {
   "display_name": "Python 3 (ipykernel)",
   "language": "python",
   "name": "python3"
  },
  "language_info": {
   "codemirror_mode": {
    "name": "ipython",
    "version": 3
   },
   "file_extension": ".py",
   "mimetype": "text/x-python",
   "name": "python",
   "nbconvert_exporter": "python",
   "pygments_lexer": "ipython3",
   "version": "3.9.7"
  }
 },
 "nbformat": 4,
 "nbformat_minor": 5
}
